{
 "cells": [
  {
   "cell_type": "code",
   "execution_count": null,
   "metadata": {},
   "outputs": [],
   "source": [
    "from charts_plotly import chart_user_activity\n",
    "from utils import gen_df_filt, gen_group_week, gen_group_year\n",
    "from datetime import datetime\n",
    "import pandas as pd"
   ]
  },
  {
   "cell_type": "code",
   "execution_count": null,
   "metadata": {},
   "outputs": [],
   "source": [
    "df_commits_bittensor = pd.read_json('datasets/bittensor_commits.json')\n",
    "df_commits_fetchai = pd.read_json('datasets/fetchai_commits.json')\n",
    "df_commits_numerai = pd.read_json('datasets/numerai_commits.json')\n",
    "df_commits_ocean = pd.read_json('datasets/oceanprotocol_commits.json')\n",
    "df_commits_oraichain = pd.read_json('datasets/oraichain_commits.json')\n",
    "df_commits_singular = pd.read_json('datasets/singularitynet_commits.json')"
   ]
  },
  {
   "cell_type": "code",
   "execution_count": null,
   "metadata": {},
   "outputs": [],
   "source": [
    "df_commits_bittensor_filt = gen_df_filt(df_commits_bittensor)\n",
    "df_commits_fetchai_filt = gen_df_filt(df_commits_fetchai)\n",
    "df_commits_numerai_filt = gen_df_filt(df_commits_numerai)\n",
    "df_commits_ocean_filt = gen_df_filt(df_commits_ocean)\n",
    "df_commits_oraichain_filt = gen_df_filt(df_commits_oraichain)\n",
    "df_commits_singular_filt = gen_df_filt(df_commits_singular)"
   ]
  },
  {
   "cell_type": "code",
   "execution_count": null,
   "metadata": {},
   "outputs": [],
   "source": [
    "df_commits_bittensor_week = gen_group_week(df_commits_bittensor_filt)\n",
    "df_commits_fetchai_week = gen_group_week(df_commits_fetchai_filt)\n",
    "df_commits_numerai_week = gen_group_week(df_commits_numerai_filt)\n",
    "df_commits_ocean_week = gen_group_week(df_commits_ocean_filt)\n",
    "df_commits_oraichain_week = gen_group_week(df_commits_oraichain_filt)\n",
    "df_commits_singular_week = gen_group_week(df_commits_singular_filt)"
   ]
  },
  {
   "cell_type": "code",
   "execution_count": null,
   "metadata": {},
   "outputs": [],
   "source": [
    "df_commits_bittensor_week"
   ]
  },
  {
   "cell_type": "code",
   "execution_count": null,
   "metadata": {},
   "outputs": [],
   "source": [
    "chart_user_activity(df_commits_bittensor_week, 'Bittensor')"
   ]
  },
  {
   "cell_type": "code",
   "execution_count": null,
   "metadata": {},
   "outputs": [],
   "source": []
  },
  {
   "cell_type": "code",
   "execution_count": null,
   "metadata": {},
   "outputs": [],
   "source": []
  }
 ],
 "metadata": {
  "kernelspec": {
   "display_name": "carbet",
   "language": "python",
   "name": "python3"
  },
  "language_info": {
   "codemirror_mode": {
    "name": "ipython",
    "version": 3
   },
   "file_extension": ".py",
   "mimetype": "text/x-python",
   "name": "python",
   "nbconvert_exporter": "python",
   "pygments_lexer": "ipython3",
   "version": "3.11.4"
  }
 },
 "nbformat": 4,
 "nbformat_minor": 2
}
